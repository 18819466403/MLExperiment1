{
 "cells": [
  {
   "cell_type": "code",
   "execution_count": 62,
   "metadata": {},
   "outputs": [
    {
     "data": {
      "image/png": "[encoded data removed]",
      "text/plain": [
       "<matplotlib.figure.Figure at 0x14ca689f0f0>"
      ]
     },
     "metadata": {},
     "output_type": "display_data"
    }
   ],
   "source": [
    "from numpy import *\n",
    "from sklearn.model_selection import train_test_split\n",
    "from sklearn.datasets import load_svmlight_file\n",
    "import matplotlib.pyplot as plt\n",
    "import numpy\n",
    "def getData():\n",
    "    data = load_svmlight_file(\"C:/Users/YOUNA/Desktop/australian_scale.txt\")\n",
    "    return data[0], data[1]\n",
    "def model(weigth,b,x):\n",
    "    return x.dot(weight)+b;\n",
    "\n",
    "def loss(weight,b,x,y,C):  \n",
    "    weightLoss = (weight**2).sum()/2;\n",
    "    pointLoss = 0;\n",
    "    n = x.shape[0]\n",
    "    for i in range(n):\n",
    "        value = y[i]*(model(weight,b,x[i]))\n",
    "        if (1-value )>=0:\n",
    "            pointLoss=pointLoss+C*(1-value)/n      \n",
    "    return weightLoss + pointLoss\n",
    " \n",
    "def gradiendofW(weight,b,x,y,C): \n",
    "    WG=weight\n",
    "    n = x.shape[0]\n",
    "    for i in range(n):\n",
    "        value = y[i]*(model(weight,b,x[i]))\n",
    "        if (1-value )>=0:\n",
    "            WG=WG-y[i]*x[i]*C/n; \n",
    "    return WG\n",
    "\n",
    "def gradiendofB(weight,b,x,y,C): \n",
    "    WB=0\n",
    "    n = x.shape[0]\n",
    "    for i in range(n):\n",
    "        value = y[i]*(model(weight,b,x[i]))\n",
    "        if (1-value )>=0:\n",
    "            WB=WB-y[i]*C/n;    \n",
    "    return WB\n",
    "x, y = getData()\n",
    "x=x.toarray()\n",
    "xTrain, xValidatuon, yTrain, yValiidation = train_test_split(x, y, test_size=0.5, random_state=42)\n",
    "weight = numpy.zeros(xTrain.shape[1])\n",
    "b=0;\n",
    "C=10;\n",
    "iteration = 500\n",
    "learningRate = 0.001\n",
    "trainLoss = []\n",
    "validateLoss = []\n",
    "for i in range(iteration):\n",
    "    trainLoss.append(loss(weight,b,xTrain,yTrain,C))\n",
    "    validateLoss.append(loss(weight,b,xValidatuon,yValiidation,C))\n",
    "    gradofW = gradiendofW(weight,b,xTrain,yTrain,C)  \n",
    "    gradofB = gradiendofB(weight,b,xTrain,yTrain,C)\n",
    "    weight = weight - gradofW*learningRate\n",
    "    b = b - gradofB*learningRate\n",
    "   \n",
    " \n",
    "plt.plot(range(iteration),trainLoss, label='train loss')\n",
    "plt.plot(range(iteration),validateLoss, label='validtion loss')\n",
    "plt.xlabel('iteration')\n",
    "plt.ylabel('loss')\n",
    "plt.legend()\n",
    "plt.show()"
   ]
  }
 ],
 "metadata": {
  "kernelspec": {
   "display_name": "Python 3",
   "language": "python",
   "name": "python3"
  },
  "language_info": {
   "codemirror_mode": {
    "name": "ipython",
    "version": 3
   },
   "file_extension": ".py",
   "mimetype": "text/x-python",
   "name": "python",
   "nbconvert_exporter": "python",
   "pygments_lexer": "ipython3",
   "version": "3.6.2"
  }
 },
 "nbformat": 4,
 "nbformat_minor": 2
}
